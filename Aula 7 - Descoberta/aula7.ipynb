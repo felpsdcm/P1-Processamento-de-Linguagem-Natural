{
  "cells": [
    {
      "cell_type": "markdown",
      "metadata": {
        "colab_type": "text",
        "id": "view-in-github"
      },
      "source": [
        "<a href=\"https://colab.research.google.com/github/Thiago-sc86/Processamento-de-Linguagem-Natural---PLN/blob/main/Aula_07_Descoberta_de_conhecimento.ipynb\" target=\"_parent\"><img src=\"https://colab.research.google.com/assets/colab-badge.svg\" alt=\"Open In Colab\"/></a>"
      ]
    },
    {
      "cell_type": "markdown",
      "metadata": {
        "id": "N1xexnTmqWwv"
      },
      "source": [
        "Aula 07 - Descoberta de conhecimento\n"
      ]
    },
    {
      "cell_type": "code",
      "execution_count": null,
      "metadata": {
        "id": "aIkSCcdkpx3Q"
      },
      "outputs": [],
      "source": [
        "import nltk\n",
        "nltk.download('punkt')"
      ]
    },
    {
      "cell_type": "code",
      "execution_count": null,
      "metadata": {
        "id": "sJpDRWoqpzhz"
      },
      "outputs": [],
      "source": [
        "!pip install nltk"
      ]
    },
    {
      "cell_type": "code",
      "execution_count": null,
      "metadata": {
        "id": "HLDhFFbqp8Yg"
      },
      "outputs": [],
      "source": [
        "import nltk\n",
        "nltk.download('punkt')\n",
        "nltk.download('averaged_perceptron_tagger')"
      ]
    },
    {
      "cell_type": "markdown",
      "metadata": {
        "id": "kT95fB_Fl3D0"
      },
      "source": [
        "Exemplo 01. NER com spaCy"
      ]
    },
    {
      "cell_type": "code",
      "execution_count": null,
      "metadata": {
        "id": "aOvwoqaDloEZ"
      },
      "outputs": [],
      "source": [
        "!pip install spacy\n",
        "!python -m spacy download pt_core_news_sm"
      ]
    },
    {
      "cell_type": "code",
      "execution_count": null,
      "metadata": {
        "colab": {
          "base_uri": "https://localhost:8080/"
        },
        "id": "3On4X-hCmFWM",
        "outputId": "1f4f3b83-d7c5-4ee3-bab3-745527c2d6a3"
      },
      "outputs": [
        {
          "name": "stdout",
          "output_type": "stream",
          "text": [
            "Steve Jobs - PER\n",
            "Apple - ORG\n",
            "Brasil - LOC\n",
            "R$ - MISC\n"
          ]
        }
      ],
      "source": [
        "import spacy\n",
        "\n",
        "nlp = spacy.load(\"pt_core_news_sm\")\n",
        "\n",
        "texto = \"Steve Jobs, CEO da Apple, visitou o Brasil em maio de 2009 para discutir investimentos de R$ 5 bilhoes.\"\n",
        "\n",
        "doc = nlp(texto)\n",
        "\n",
        "for entidade in doc.ents:\n",
        "  print(f\"{entidade.text} - {entidade.label_}\")"
      ]
    },
    {
      "cell_type": "markdown",
      "metadata": {
        "id": "PGY5A9qGl-Sa"
      },
      "source": [
        "Exemplo 02. NER com NLTK\n"
      ]
    },
    {
      "cell_type": "code",
      "execution_count": null,
      "metadata": {
        "id": "baMfAcOlmOIC"
      },
      "outputs": [],
      "source": [
        "import nltk\n",
        "from nltk.tokenize import word_tokenize\n",
        "from nltk.tag import pos_tag\n",
        "from nltk.chunk import ne_chunk\n",
        "\n",
        "\n",
        "texto = \"Barack Obama foi presidente dos Estados Unidos e ganhou o Premio Nobel da Paz.\"\n",
        "\n",
        "tokens = word_tokenize(texto)\n",
        "tags = pos_tag(tokens)\n",
        "\n",
        "\n",
        "entidades = ne_chunk(tags)\n",
        "\n",
        "print(entidades)"
      ]
    },
    {
      "cell_type": "markdown",
      "metadata": {
        "id": "kGXpnz60mc2v"
      },
      "source": [
        "Exemplo 03. Extração de informações com expressões regulares"
      ]
    },
    {
      "cell_type": "code",
      "execution_count": null,
      "metadata": {
        "colab": {
          "base_uri": "https://localhost:8080/"
        },
        "id": "fFtD5yonmiqo",
        "outputId": "7db941fb-0fcc-494c-eaf1-205a30a6039d"
      },
      "outputs": [
        {
          "name": "stdout",
          "output_type": "stream",
          "text": [
            "['30 de junho de 2025']\n"
          ]
        }
      ],
      "source": [
        "import re\n",
        "\n",
        "texto = \"O pagamento deve ser feito ate 30 de junho de 2025.\"\n",
        "\n",
        "padrao = r\"\\d{1,2} de [a-zA-Z]+ de \\d{4}\"\n",
        "datas = re.findall(padrao, texto)\n",
        "\n",
        "print(datas)"
      ]
    },
    {
      "cell_type": "markdown",
      "metadata": {
        "id": "4CYR0UZBmrnR"
      },
      "source": [
        "Exemplo 04. Extração de informação com regras heurísticas e dicionários"
      ]
    },
    {
      "cell_type": "code",
      "execution_count": null,
      "metadata": {
        "colab": {
          "base_uri": "https://localhost:8080/"
        },
        "id": "I33QRPpjmygh",
        "outputId": "d8117e6c-7994-47a9-ef04-a70ffac4db4b"
      },
      "outputs": [
        {
          "name": "stdout",
          "output_type": "stream",
          "text": [
            "Profissao identificada: engenheiro\n"
          ]
        }
      ],
      "source": [
        "profissoes = [\"engenheiro\", \"cientista de dados\", \"medico\", \"advogado\"]\n",
        "\n",
        "texto = \"Joao e engenheiro de software e trabalha no Google.\"\n",
        "\n",
        "for profissao in profissoes:\n",
        "  if profissao in texto:\n",
        "    print(f\"Profissao identificada: {profissao}\")"
      ]
    },
    {
      "cell_type": "markdown",
      "metadata": {
        "id": "0ZJPBByBnsv5"
      },
      "source": [
        "Exemplo 05. Mineração de textos com frequência de palavras e N-gramas"
      ]
    },
    {
      "cell_type": "code",
      "execution_count": null,
      "metadata": {
        "id": "KXrwL55Onbsr"
      },
      "outputs": [],
      "source": [
        "import nltk\n",
        "from nltk.util import ngrams\n",
        "from collections import Counter\n",
        "\n",
        "texto = \"Mineracao de textos envolve analise de palavras, palavras importantes e padroes.\"\n",
        "palavras = nltk.word_tokenize(texto.lower())\n",
        "\n",
        "frequencia = Counter (palavras)\n",
        "print(frequencia.most_common(5))\n",
        "\n",
        "bigrams = list(ngrams(palavras, 2))\n",
        "print(bigrams)"
      ]
    },
    {
      "cell_type": "markdown",
      "metadata": {
        "id": "IsVs6Ap2n79o"
      },
      "source": [
        "Exemplo 06. Mineração de texto"
      ]
    },
    {
      "cell_type": "code",
      "execution_count": null,
      "metadata": {
        "id": "zDXn3GJun_kF"
      },
      "outputs": [],
      "source": [
        "\n",
        "!pip install --force-reinstall gensim"
      ]
    },
    {
      "cell_type": "code",
      "execution_count": null,
      "metadata": {
        "id": "4JdIK9yWoN6b"
      },
      "outputs": [],
      "source": [
        "from gensim import corpora, models\n",
        "\n",
        "documentos = [[\"mineração\", \"textos\", \"dados\"],\n",
        "[\"inteligência\", \"artificial\", \"aprendizado\"],\n",
        "[\"dados\", \"aprendizado\", \"estatistica\"]]\n",
        "\n",
        "dicionario = corpora.Dictionary(documentos)\n",
        "corpus = [dicionario.doc2bow(texto) for texto in documentos]\n",
        "\n",
        "lda_modelo = models.LdaModel(corpus, num_topics=2, id2word=dicionario)\n",
        "print(lda_modelo.print_topics())"
      ]
    },
    {
      "cell_type": "markdown",
      "metadata": {
        "id": "HonaLV9voIOY"
      },
      "source": []
    }
  ],
  "metadata": {
    "colab": {
      "authorship_tag": "ABX9TyP0760bIe3JnIZrEw8Nskv3",
      "include_colab_link": true,
      "provenance": []
    },
    "kernelspec": {
      "display_name": "Python 3",
      "name": "python3"
    },
    "language_info": {
      "name": "python"
    }
  },
  "nbformat": 4,
  "nbformat_minor": 0
}
