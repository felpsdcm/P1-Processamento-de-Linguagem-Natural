{
  "nbformat": 4,
  "nbformat_minor": 0,
  "metadata": {
    "colab": {
      "provenance": []
    },
    "kernelspec": {
      "name": "python3",
      "display_name": "Python 3"
    },
    "language_info": {
      "name": "python"
    }
  },
  "cells": [
    {
      "cell_type": "markdown",
      "source": [
        "# Análise de Sentimentos e Classificação de Textos em **PLN**"
      ],
      "metadata": {
        "id": "9vJ5RLS4MEL8"
      }
    },
    {
      "cell_type": "markdown",
      "source": [
        "## Exemplos de Roteiro"
      ],
      "metadata": {
        "id": "rnbsXBT4M033"
      }
    },
    {
      "cell_type": "markdown",
      "source": [
        "### Exemplo 1 Análise de sentimentos com a biblioteca NLTK"
      ],
      "metadata": {
        "id": "8RHuQdooNF7A"
      }
    },
    {
      "cell_type": "code",
      "source": [
        "# Importando as bibliotecas\n",
        "import nltk\n",
        "from nltk.sentiment.vader import SentimentIntensityAnalyzer\n",
        "\n",
        "# Certifique-se de baixar os recursos necessários do NLTK\n",
        "nltk.download('vader_lexicon')\n",
        "nltk.download('punkt')\n"
      ],
      "metadata": {
        "colab": {
          "base_uri": "https://localhost:8080/"
        },
        "id": "9KWaPvCtNKws",
        "outputId": "58523249-ba45-4378-a100-a0847bfb6800"
      },
      "execution_count": 1,
      "outputs": [
        {
          "output_type": "stream",
          "name": "stderr",
          "text": [
            "[nltk_data] Downloading package vader_lexicon to /root/nltk_data...\n",
            "[nltk_data] Downloading package punkt to /root/nltk_data...\n",
            "[nltk_data]   Unzipping tokenizers/punkt.zip.\n"
          ]
        },
        {
          "output_type": "execute_result",
          "data": {
            "text/plain": [
              "True"
            ]
          },
          "metadata": {},
          "execution_count": 1
        }
      ]
    },
    {
      "cell_type": "code",
      "source": [
        "# Inicializando o analisador de sentimentos\n",
        "sid = SentimentIntensityAnalyzer()\n",
        "\n",
        "# Definindo os textos de exemplo para treinar o modelo\n",
        "\n",
        "textos = [\n",
        "  \"Este filme é incrível! Eu adorei cada minuto.\",\n",
        "  \"Odiei este filme. Foi uma perda de tempo.\",\n",
        "  \"O filme foi ok, nada de especial.\",\n",
        "  \"Estou muito feliz com o produto, funciona perfeitamente!\",\n",
        "  \"Que serviço horrível! Nunca mais compro nessa loja.\"\n",
        "]"
      ],
      "metadata": {
        "id": "BCVnyHUxNmAh"
      },
      "execution_count": null,
      "outputs": []
    },
    {
      "cell_type": "code",
      "source": [
        "# Analisando os sentimentos dos textos\n",
        "\n",
        "for texto in textos:\n",
        "  print(f\"Texto: {texto}\")\n",
        "  ss = sid.polarity_scores(texto)\n",
        "  print(f\"Pontuaçao: {ss}\")\n",
        "  if ss['compound'] >= 0.05:\n",
        "    print(\"Sentimento: Positivo\")\n",
        "  elif ss['compound' ] <= -0.05:\n",
        "    print(\"Sentimento: Negativo\")\n",
        "  else:\n",
        "    print(\"Sentimento: Neutro\")\n",
        "  print(\"\\n\")"
      ],
      "metadata": {
        "colab": {
          "base_uri": "https://localhost:8080/"
        },
        "id": "v8YTRswXOe8k",
        "outputId": "37dd716e-226f-4243-b7cd-63c570090918"
      },
      "execution_count": null,
      "outputs": [
        {
          "output_type": "stream",
          "name": "stdout",
          "text": [
            "Texto: Este filme é incrível! Eu adorei cada minuto.\n",
            "Pontuaçao: {'neg': 0.0, 'neu': 1.0, 'pos': 0.0, 'compound': 0.0}\n",
            "Sentimento: Neutro\n",
            "\n",
            "\n",
            "Texto: Odiei este filme. Foi uma perda de tempo.\n",
            "Pontuaçao: {'neg': 0.0, 'neu': 1.0, 'pos': 0.0, 'compound': 0.0}\n",
            "Sentimento: Neutro\n",
            "\n",
            "\n",
            "Texto: O filme foi ok, nada de especial.\n",
            "Pontuaçao: {'neg': 0.0, 'neu': 0.694, 'pos': 0.306, 'compound': 0.296}\n",
            "Sentimento: Positivo\n",
            "\n",
            "\n",
            "Texto: Estou muito feliz com o produto, funciona perfeitamente!\n",
            "Pontuaçao: {'neg': 0.0, 'neu': 1.0, 'pos': 0.0, 'compound': 0.0}\n",
            "Sentimento: Neutro\n",
            "\n",
            "\n",
            "Texto: Que serviço horrível! Nunca mais compro nessa loja.\n",
            "Pontuaçao: {'neg': 0.0, 'neu': 1.0, 'pos': 0.0, 'compound': 0.0}\n",
            "Sentimento: Neutro\n",
            "\n",
            "\n"
          ]
        }
      ]
    },
    {
      "cell_type": "markdown",
      "source": [
        "### Exemplo 2 Análise de sentimentos de Avaliações de Filmes com Naives Bayes"
      ],
      "metadata": {
        "id": "OuI5CipXO1zv"
      }
    },
    {
      "cell_type": "code",
      "source": [
        "# Primeira etapa: Criação de funções que calculam a quantidade de palavras, e as probabilidades\n",
        "\n",
        "import numpy as np\n",
        "\n",
        "def contar_palavras(avaliacoes, sentimento):\n",
        "  \"\"\"Conta a frequência de cada palavra em avaliações de um dado sentimento.\"\"\"\n",
        "  contagem = {}\n",
        "  for avaliacao, sent in avaliacoes:\n",
        "    if sent == sentimento:\n",
        "      for palavra in avaliacao.lower().split():\n",
        "        if palavra in contagem:\n",
        "          contagem[palavra] += 1\n",
        "        else:\n",
        "          contagem[palavra] = 1\n",
        "\n",
        "  return contagem\n",
        "\n",
        "def calcular_probabilidade_sentimento(avaliacoes, sentimento):\n",
        "  \"\"\"Calcula a probabilidade de uma avaliação ser de um dado sentimento.\"\"\"\n",
        "  total_avaliacoes = len(avaliacoes)\n",
        "  contagem_sentimento = sum(1 for _, sent in avaliacoes if sent == sentimento)\n",
        "  return contagem_sentimento / total_avaliacoes\n",
        "\n",
        "def calcular_probabilidade_palavra_dado_sentimento(palavra, contagem_palavras, total_palavras_sentimento, total_palavras_vocabulario, alpha=1):\n",
        "  \"\"\"Calcula a probabilidade de uma palavra aparecer dado um sentimento (com suavizacao Laplace).\"\"\"\n",
        "  contagem_palavra = contagem_palavras.get(palavra, 0)\n",
        "  return (contagem_palavra + alpha) / (total_palavras_sentimento + alpha * total_palavras_vocabulario)"
      ],
      "metadata": {
        "id": "I9qAa4BDOuco"
      },
      "execution_count": null,
      "outputs": []
    },
    {
      "cell_type": "code",
      "source": [
        "# Segunda etapa: Criação da função que calcula a classificação da palavra pertencer a um sentimento\n",
        "\n",
        "def classificar_avaliacao(avaliacao, avaliacoes):\n",
        "  \"\"\"Classifica o sentimento de uma nova avaliaçao usando Naive Bayes.\"\"\"\n",
        "\n",
        "  sentimentos = [\"Positivo\", \"Negativo\"]\n",
        "  probabilidades_sentimento = {}\n",
        "\n",
        "  # Calcular probabilidades a priori dos sentimentos\n",
        "  probabilidades_sentimento[\"Positivo\"] = calcular_probabilidade_sentimento(avaliacoes, \"Positivo\")\n",
        "  probabilidades_sentimento[\"Negativo\"] = calcular_probabilidade_sentimento(avaliacoes, \"Negativo\")\n",
        "\n",
        "  # Contar palavras em cada sentimento\n",
        "  contagem_palavras_positivo = contar_palavras(avaliacoes, \"Positivo\")\n",
        "  contagem_palavras_negativo = contar_palavras(avaliacoes, \"Negativo\")\n",
        "\n",
        "  # Calcular total de palavras em cada sentimento\n",
        "  total_palavras_positivo = sum(contagem_palavras_positivo.values())\n",
        "  total_palavras_negativo = sum(contagem_palavras_negativo.values())\n",
        "\n",
        "  # Calcular tamanho do vocabulário\n",
        "  vocabulario = set()\n",
        "  for avaliacao, _ in avaliacoes:\n",
        "    for palavra in avaliacao.lower().split():\n",
        "        vocabulario.add(palavra)\n",
        "  total_palavras_vocabulario = len(vocabulario)\n",
        "\n",
        "  # Calcular probabilidades para cada sentimento\n",
        "  for sentimento in sentimentos:\n",
        "      probabilidade_total = probabilidades_sentimento[sentimento]\n",
        "      contagem_palavras_sentimento = contagem_palavras_positivo if sentimento == \"Positivo\" else contagem_palavras_negativo\n",
        "      total_palavras_sentimento = total_palavras_positivo if sentimento == \"Positivo\" else total_palavras_negativo\n",
        "\n",
        "      for palavra in avaliacao.lower().split():\n",
        "          probabilidade_palavra = calcular_probabilidade_palavra_dado_sentimento(\n",
        "            palavra, contagem_palavras_sentimento, total_palavras_sentimento, total_palavras_vocabulario\n",
        "        )\n",
        "          probabilidade_total *= probabilidade_palavra\n",
        "      probabilidades_sentimento[sentimento] = probabilidade_total\n",
        "\n",
        "  # Classificar com base na maior probabilidade\n",
        "  melhor_sentimento = max(probabilidades_sentimento, key=probabilidades_sentimento.get)\n",
        "  return melhor_sentimento"
      ],
      "metadata": {
        "id": "cmXN3fhHPPzZ"
      },
      "execution_count": null,
      "outputs": []
    },
    {
      "cell_type": "code",
      "source": [
        "# \tTerceira Etapa – Fornecimento de um modelo para treinamento\n",
        "\n",
        "avaliacoes = [\n",
        "    (\"Filme incrível! Adorei a atuação.\", \"Positivo\"),\n",
        "    (\"Roteiro fraco, não recomendo.\", \"Negativo\"),\n",
        "    (\"Atuação boa, mas filme longo.\", \"Positivo\"),\n",
        "    (\"Péssimo! Perdi meu tempo.\", \"Negativo\"),\n",
        "]\n"
      ],
      "metadata": {
        "id": "0KZm-HOWQ5iC"
      },
      "execution_count": null,
      "outputs": []
    },
    {
      "cell_type": "code",
      "source": [
        "# \tQuarta etapa  - Fornecendo um frase para ser avaliada\n",
        "\n",
        "# Nova avaliação a ser classificada\n",
        "nova_avaliacao = input(\"o que voce achou do filme 101 Dalmatas? \")\n",
        "\n",
        "# Classificar a nova avaliação\n",
        "sentimento = classificar_avaliacao(nova_avaliacao, avaliacoes)\n",
        "print(f\"A avaliação '{nova_avaliacao}' foi classificada como: {sentimento}\")"
      ],
      "metadata": {
        "colab": {
          "base_uri": "https://localhost:8080/"
        },
        "id": "MnwVPVchRDPD",
        "outputId": "9e98436a-ba10-4075-96dd-fc5c1a50e706"
      },
      "execution_count": null,
      "outputs": [
        {
          "output_type": "stream",
          "name": "stdout",
          "text": [
            "o que voce achou do filme 101 Dalmatas? ótimo\n",
            "A avaliação 'ótimo' foi classificada como: Positivo\n"
          ]
        }
      ]
    },
    {
      "cell_type": "code",
      "source": [
        "# Quinta etapa - Treine com um novo modelo de dados\n",
        "\n",
        "avaliacoes = [\n",
        "    (\"Filme incrível! Adorei a atuação, roteiro e direção.\", \"Positivo\"),\n",
        "    (\"Roteiro fraco, atuação ruim, não recomendo. Perda de tempo.\", \"Negativo\"),\n",
        "    (\"Atuação boa, mas filme um pouco longo e arrastado.\", \"Positivo\"),\n",
        "    (\"Péssimo! Perdi meu tempo, dinheiro e paciência. Horrível.\", \"Negativo\"),\n",
        "    (\"Amei! Elenco maravilhoso, fotografia impecável. Recomendo muito!\", \"Positivo\"),\n",
        "    (\"Chato, previsível e sem graça. Saí no meio do filme.\", \"Negativo\"),\n",
        "    (\"Uma obra-prima! Roteiro inteligente, atuações memoráveis.\", \"Positivo\"),\n",
        "    (\"Cansativo, atuações forçadas, final decepcionante.\", \"Negativo\"),\n",
        "    (\"Divertido e emocionante! Ótimo para assistir com a família.\", \"Positivo\"),\n",
        "    (\"Clichê, sem originalidade, diálogos fracos. Não vale a pena.\", \"Negativo\"),\n",
        "    (\"Surpreendente e envolvente! Me prendeu do início ao fim.\", \"Positivo\"),\n",
        "    (\"Confuso, mal dirigido, edição amadora. Um desastre.\", \"Negativo\"),\n",
        "    (\"Atuação excelente, história cativante, trilha sonora perfeita.\", \"Positivo\"),\n",
        "    (\"Atuações medianas, história arrastada, trilha sonora irritante.\", \"Negativo\"),\n",
        "    (\"Roteiro bem construído, diálogos afiados, direção impecável.\", \"Positivo\"),\n",
        "    (\"Roteiro fraco, diálogos bobos, direção perdida.\", \"Negativo\"),\n",
        "    (\"Uma experiência cinematográfica única! Recomendo a todos os amantes do cinema.\", \"Positivo\"),\n",
        "    (\"Um filme esquecível, sem emoção e sem impacto.\", \"Negativo\"),\n",
        "    (\"Comovente e inspirador! Me fez refletir sobre a vida.\", \"Positivo\"),\n",
        "    (\"Decepcionante e frustrante! Não recomendo nem para passar o tempo.\", \"Negativo\"),\n",
        "    (\"Ótimo, gostei muito\",'Positivo')\n",
        "]\n",
        "\n"
      ],
      "metadata": {
        "id": "gIsIGzRQRNgJ"
      },
      "execution_count": null,
      "outputs": []
    }
  ]
}