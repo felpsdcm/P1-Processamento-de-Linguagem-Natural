{
 "cells": [
  {
   "cell_type": "markdown",
   "metadata": {
    "colab_type": "text",
    "id": "view-in-github"
   },
   "source": [
    "<a href=\"https://colab.research.google.com/github/Thiago-sc86/Processamento-de-Linguagem-Natural---PLN/blob/main/A_02_Python_e_Bibliotecas.ipynb\" target=\"_parent\"><img src=\"https://colab.research.google.com/assets/colab-badge.svg\" alt=\"Open In Colab\"/></a>"
   ]
  },
  {
   "cell_type": "code",
   "execution_count": null,
   "metadata": {
    "id": "EwkLZHPeUNCL"
   },
   "outputs": [],
   "source": [
    "# Exercício 1: Calcular o volume de uma caixa retangular\n",
    "\n",
    "comprimento = float(input(\"Insira o comprimento da caixa: \"))\n",
    "largura = float(input(\"Insira a largura da caixa: \"))\n",
    "altura = float(input(\"Insira a altura da caixa: \"))\n",
    "\n",
    "volume = comprimento * largura * altura\n",
    "\n",
    "print(f\"O volume da caixa é: {volume}\")"
   ]
  },
  {
   "cell_type": "markdown",
   "metadata": {
    "id": "AUJtPIdHsJl6"
   },
   "source": [
    "_______________________________________________________"
   ]
  },
  {
   "cell_type": "code",
   "execution_count": null,
   "metadata": {
    "colab": {
     "base_uri": "https://localhost:8080/"
    },
    "id": "NXpV7G0hVZn6",
    "outputId": "040beb55-94d1-4356-ae54-0f16757c20e2"
   },
   "outputs": [
    {
     "name": "stdout",
     "output_type": "stream",
     "text": [
      "Digite um texto: ola bom dia \n",
      "O número de palavras no texto é: 3\n"
     ]
    }
   ],
   "source": [
    "# Exercício 2: Contar o número de palavras em um texto\n",
    "\n",
    "texto = input(\"Insira um texto: \")\n",
    "\n",
    "palavras = texto.split()\n",
    "\n",
    "numero_palavras = len(palavras)\n",
    "\n",
    "print(f\"O número de palavras no texto é: {numero_palavras}\")"
   ]
  },
  {
   "cell_type": "markdown",
   "metadata": {
    "id": "gj2cZj1usQEc"
   },
   "source": [
    "_______________________________________________________"
   ]
  },
  {
   "cell_type": "code",
   "execution_count": null,
   "metadata": {
    "id": "mM8xfMY4W4Oe"
   },
   "outputs": [],
   "source": [
    "# Exercício 3: Buscar e substituir palavras em um texto\n",
    "\n",
    "texto = input(\"Digite um texto: \")\n",
    "\n",
    "palavra_busca = input(\"Insira a palavra que deseja substituir: \")\n",
    "\n",
    "palavra_substituta = input(\"Insira a palavra substituta: \")\n",
    "\n",
    "texto_modificado = texto.replace(palavra_busca, palavra_substituta)\n",
    "\n",
    "print(f\"Texto modificado: {texto_modificado}\")"
   ]
  },
  {
   "cell_type": "markdown",
   "metadata": {
    "id": "gGHoyi0ysUkI"
   },
   "source": [
    "_______________________________________________________"
   ]
  },
  {
   "cell_type": "code",
   "execution_count": null,
   "metadata": {
    "id": "UYY1yPgFXQax"
   },
   "outputs": [],
   "source": [
    "# Exercício 4: Separar frases usando split() e iterar sobre elas\n",
    "\n",
    "texto = input(\"Insira um texto com várias frases (separe por pontos): \")\n",
    "\n",
    "frases = texto.split('.')\n",
    "\n",
    "print(\"Frases separadas:\")\n",
    "for i, frase in enumerate(frases, 1):  # enumerate começa a contar de 1\n",
    "    frase = frase.strip()  # Remove espaços em branco no início e fim\n",
    "    if frase:  # Verifica se a frase não está vazia\n",
    "        print(f\"Frase {i}: {frase}\")"
   ]
  },
  {
   "cell_type": "markdown",
   "metadata": {
    "id": "ZgjN6TbrsXXi"
   },
   "source": [
    "_______________________________________________________"
   ]
  },
  {
   "cell_type": "code",
   "execution_count": null,
   "metadata": {
    "id": "HGGUNH2BYE9L"
   },
   "outputs": [],
   "source": [
    "# Exercício 5: Ordenar três valores em ordem crescente\n",
    "\n",
    "A = int(input(\"Insira o valor de A: \"))\n",
    "B = int(input(\"Insira o valor de B: \"))\n",
    "C = int(input(\"Insira o valor de C: \"))\n",
    "\n",
    "valores = [A, B, C]\n",
    "\n",
    "valores_ordenados = sorted(valores)\n",
    "\n",
    "print(f\"Valores em ordem: {valores_ordenados}\")"
   ]
  },
  {
   "cell_type": "markdown",
   "metadata": {
    "id": "XaG8lWqvseFy"
   },
   "source": [
    "_______________________________________________________"
   ]
  },
  {
   "cell_type": "code",
   "execution_count": null,
   "metadata": {
    "id": "R8f_k6-uZWHE"
   },
   "outputs": [],
   "source": [
    "# Exercício 6: Mostrar valores divisíveis por 2 e 3\n",
    "\n",
    "A = int(input(\"Insira o valor de A: \"))\n",
    "B = int(input(\"Insira o valor de B: \"))\n",
    "C = int(input(\"Insira o valor de C: \"))\n",
    "D = int(input(\"Insira o valor de D: \"))\n",
    "\n",
    "valores = [A, B, C, D]\n",
    "\n",
    "divisiveis = [valor for valor in valores if valor % 2 == 0 and valor % 3 == 0]\n",
    "\n",
    "if divisiveis:\n",
    "    print(\"Valores divisíveis por 2 e 3:\", divisiveis)\n",
    "else:\n",
    "    print(\"Nenhum valor é divisível por 2 e 3 ao mesmo tempo.\")"
   ]
  },
  {
   "cell_type": "markdown",
   "metadata": {
    "id": "LOvw2icushy_"
   },
   "source": [
    "_______________________________________________________"
   ]
  },
  {
   "cell_type": "code",
   "execution_count": null,
   "metadata": {
    "id": "41lbY94KcEzD"
   },
   "outputs": [],
   "source": [
    "\n",
    "# Exercício 7: Mostrar valores divisíveis por 4 menores que 200\n",
    "\n",
    "print(\"Números divisíveis por 4 entre 200 e 4:\")\n",
    "\n",
    "\n",
    "for numero in range(200, 3, -1):\n",
    "    if numero % 4 == 0:\n",
    "        print(numero, end=' ')"
   ]
  }
 ],
 "metadata": {
  "colab": {
   "authorship_tag": "ABX9TyNsOBMOuQNY0dboUbQxyteA",
   "include_colab_link": true,
   "provenance": []
  },
  "kernelspec": {
   "display_name": "Python 3",
   "name": "python3"
  },
  "language_info": {
   "name": "python"
  }
 },
 "nbformat": 4,
 "nbformat_minor": 0
}
