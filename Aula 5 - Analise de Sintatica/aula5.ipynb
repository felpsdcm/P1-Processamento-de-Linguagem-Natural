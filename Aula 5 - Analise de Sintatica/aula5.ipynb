{
  "cells": [
    {
      "cell_type": "markdown",
      "metadata": {
        "colab_type": "text",
        "id": "view-in-github"
      },
      "source": [
        "<a href=\"https://colab.research.google.com/github/Thiago-sc86/Processamento-de-Linguagem-Natural---PLN/blob/main/Aula_05_An%C3%A1lise_sint%C3%A1tica_e_estrutura_de_texto.ipynb\" target=\"_parent\"><img src=\"https://colab.research.google.com/assets/colab-badge.svg\" alt=\"Open In Colab\"/></a>"
      ]
    },
    {
      "cell_type": "markdown",
      "metadata": {
        "id": "sf7TGnSybW-n"
      },
      "source": [
        " Parte 01 - Desenvolvimento conceitual de corporas"
      ]
    },
    {
      "cell_type": "code",
      "execution_count": null,
      "metadata": {
        "id": "gD_Phrnbitz1"
      },
      "outputs": [],
      "source": [
        "\n",
        "def ler(nome_arquivo):\n",
        " arquivo = open(nome_arquivo, 'r', encoding='utf-8')\n",
        " conteudo_arq = arquivo.read()\n",
        " arquivo.close()\n",
        "\n",
        " return conteudo_arq"
      ]
    },
    {
      "cell_type": "code",
      "execution_count": null,
      "metadata": {
        "id": "H64g2UFuixnS"
      },
      "outputs": [],
      "source": [
        "texto = ler('/content/2025.05 Ubirajara.txt')\n",
        "print(len(texto))"
      ]
    },
    {
      "cell_type": "markdown",
      "metadata": {
        "id": "7e9a9eZ8i5ku"
      },
      "source": [
        "Buscador de palavras"
      ]
    },
    {
      "cell_type": "code",
      "execution_count": null,
      "metadata": {
        "id": "nMbu1BGUi7Bo"
      },
      "outputs": [],
      "source": [
        "def buscador(alvo, texto):\n",
        "  texto = texto.replace('\\n',' ')\n",
        "  texto = texto.replace('\\t',' ')\n",
        "\n",
        "  ocorrencias = []\n",
        "\n",
        "  encontrado_aqui = texto.find(alvo, 0)\n",
        "\n",
        "  while encontrado_aqui > 0:\n",
        "    pos_inicial = encontrado_aqui - (40 - len(alvo))\n",
        "    trecho = texto[pos_inicial: pos_inicial + 80]\n",
        "\n",
        "\n",
        "    ocorrencias.append(trecho)\n",
        "\n",
        "    encontrado_aqui = texto.find(alvo, encontrado_aqui + 1)\n",
        "  return ocorrencias\n"
      ]
    },
    {
      "cell_type": "code",
      "execution_count": null,
      "metadata": {
        "id": "6SlTw8H5jDxq"
      },
      "outputs": [],
      "source": [
        "resultados = buscador('peito', texto)\n",
        "\n",
        "for trecho in resultados:\n",
        "  print(trecho)"
      ]
    },
    {
      "cell_type": "markdown",
      "metadata": {
        "id": "lfx6jsWMjI0d"
      },
      "source": [
        "Parte 02 - Limpeza de corpus"
      ]
    },
    {
      "cell_type": "code",
      "execution_count": null,
      "metadata": {
        "id": "lrtf_fTyjKAr"
      },
      "outputs": [],
      "source": [
        "palavras = texto.split()"
      ]
    },
    {
      "cell_type": "code",
      "execution_count": null,
      "metadata": {
        "id": "8--5MuFkjP3V"
      },
      "outputs": [],
      "source": [
        "teste = \"O cachorro correu atrás do carro.\"\n",
        "word = teste.split()\n",
        "print(word)"
      ]
    },
    {
      "cell_type": "code",
      "execution_count": null,
      "metadata": {
        "id": "_bfN1mqejgMm"
      },
      "outputs": [],
      "source": [
        "def limpar(lista):\n",
        "  lixo = '.,:;?!\"`´^~()[]{}/\\|@#$%¨&*'\n",
        "  quase_limpo = [x.strip(lixo).lower() for x in lista]\n",
        "  return [x for x in quase_limpo if x.isalpha() or '-' not in x]"
      ]
    },
    {
      "cell_type": "code",
      "execution_count": null,
      "metadata": {
        "id": "uvBU95BejpOY"
      },
      "outputs": [],
      "source": [
        "teste = \"Corre-se atrás do carro, corre se o carro for embora.\"\n",
        "word = teste.split()\n",
        "print(word)"
      ]
    },
    {
      "cell_type": "code",
      "execution_count": null,
      "metadata": {
        "id": "iM7QU_qcjvBO"
      },
      "outputs": [],
      "source": [
        "print(limpar(word))"
      ]
    },
    {
      "cell_type": "code",
      "execution_count": null,
      "metadata": {
        "id": "WWJdq6x0jwAJ"
      },
      "outputs": [],
      "source": [
        "print(len(palavras))\n",
        "palavras = limpar(palavras)\n",
        "print(len(palavras))"
      ]
    },
    {
      "cell_type": "code",
      "execution_count": null,
      "metadata": {
        "id": "geGUjBhJj0XQ"
      },
      "outputs": [],
      "source": []
    }
  ],
  "metadata": {
    "colab": {
      "authorship_tag": "ABX9TyM9mG/Id/hUCRcVdSe2bE5f",
      "include_colab_link": true,
      "provenance": []
    },
    "kernelspec": {
      "display_name": "Python 3",
      "name": "python3"
    },
    "language_info": {
      "name": "python"
    }
  },
  "nbformat": 4,
  "nbformat_minor": 0
}
